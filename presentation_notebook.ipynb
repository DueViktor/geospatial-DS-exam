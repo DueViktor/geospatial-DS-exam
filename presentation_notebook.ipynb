{
 "cells": [
  {
   "cell_type": "markdown",
   "id": "234d1b79",
   "metadata": {},
   "source": [
    "# Results and visualizations\n",
    "**By Viktor Due Pedersen(vipe) and Aske Schytt Meineche (askm)**\n",
    "\n",
    "## Imports"
   ]
  },
  {
   "cell_type": "code",
   "execution_count": null,
   "id": "4fd5b916",
   "metadata": {},
   "outputs": [],
   "source": [
    "import plotting_tools as pt\n",
    "\n",
    "# Select model experiments\n",
    "month_dir = \"model_outputs/months/\"\n",
    "satellite_dir = \"model_outputs/satellites/\"\n",
    "band_dir = 'model_outputs/bands_small/'"
   ]
  },
  {
   "cell_type": "markdown",
   "id": "f691d40e",
   "metadata": {},
   "source": [
    "## See training / Validation curve"
   ]
  },
  {
   "cell_type": "code",
   "execution_count": null,
   "id": "f461c2e5",
   "metadata": {},
   "outputs": [],
   "source": [
    "pt.plot_best_config(satellite_dir)"
   ]
  },
  {
   "cell_type": "markdown",
   "id": "fde1242a",
   "metadata": {},
   "source": [
    "## Performance on months when training on global dataset "
   ]
  },
  {
   "cell_type": "code",
   "execution_count": null,
   "id": "11d998d8",
   "metadata": {
    "scrolled": true
   },
   "outputs": [],
   "source": [
    "# create subsets\n",
    "pt.create_monthly_datasets()\n",
    "\n",
    "# load model\n",
    "model = pt.get_model_from_path(satellite_dir)\n",
    "# model.eval()\n",
    "\n",
    "pt.evaluate_monthly(model)"
   ]
  },
  {
   "cell_type": "markdown",
   "id": "dd3c410e",
   "metadata": {},
   "source": [
    "## Performance on months when training monthly"
   ]
  },
  {
   "cell_type": "code",
   "execution_count": null,
   "id": "4deee425",
   "metadata": {
    "scrolled": false
   },
   "outputs": [],
   "source": [
    "models = pt.get_best_model_pr_month(month_dir)\n",
    "pt.evaluate_monthly_multiple(models)"
   ]
  },
  {
   "cell_type": "markdown",
   "id": "dd693d03",
   "metadata": {},
   "source": [
    "## Performance on single datapoints on worst month vs best month"
   ]
  },
  {
   "cell_type": "code",
   "execution_count": null,
   "id": "8bc3ecee",
   "metadata": {
    "scrolled": false
   },
   "outputs": [],
   "source": [
    "month ='Nov'\n",
    "\n",
    "chip_id,fpath,df = pt.get_subset_from_month(month)\n",
    "pt.plot_agbm(chip_id=chip_id,fpath=fpath,df=df,model=model)"
   ]
  },
  {
   "cell_type": "code",
   "execution_count": null,
   "id": "e72a76ae",
   "metadata": {
    "scrolled": false
   },
   "outputs": [],
   "source": [
    "month ='May'\n",
    "\n",
    "chip_id,fpath,df = pt.get_subset_from_month(month)\n",
    "pt.plot_agbm(chip_id=chip_id,fpath=fpath,df=df,model=model)"
   ]
  },
  {
   "cell_type": "code",
   "execution_count": null,
   "id": "837d9f2e",
   "metadata": {},
   "outputs": [],
   "source": []
  },
  {
   "cell_type": "markdown",
   "id": "cccceded",
   "metadata": {},
   "source": [
    "## Ablation Study on Satellites"
   ]
  },
  {
   "cell_type": "code",
   "execution_count": null,
   "id": "453b662e",
   "metadata": {
    "scrolled": false
   },
   "outputs": [],
   "source": [
    "conf = pt.plot_ablation(satellite_dir, metric=\"val_loss_median\", id_=\"exclude_layer\", title=\"ablation_satellites\")"
   ]
  },
  {
   "cell_type": "markdown",
   "id": "25143f14",
   "metadata": {},
   "source": [
    "## Ablation study on bands"
   ]
  },
  {
   "cell_type": "code",
   "execution_count": null,
   "id": "29d5a6e6",
   "metadata": {
    "scrolled": false
   },
   "outputs": [],
   "source": [
    "conf = pt.plot_ablation(band_dir, metric=\"val_loss_median\", id_=\"exclude_layer_name\", title=\"Bands\",vline='No Layer Excluded')"
   ]
  },
  {
   "cell_type": "code",
   "execution_count": null,
   "id": "6c27969b",
   "metadata": {},
   "outputs": [],
   "source": []
  }
 ],
 "metadata": {
  "kernelspec": {
   "display_name": "Python 3 (ipykernel)",
   "language": "python",
   "name": "python3"
  },
  "language_info": {
   "codemirror_mode": {
    "name": "ipython",
    "version": 3
   },
   "file_extension": ".py",
   "mimetype": "text/x-python",
   "name": "python",
   "nbconvert_exporter": "python",
   "pygments_lexer": "ipython3",
   "version": "3.10.6"
  }
 },
 "nbformat": 4,
 "nbformat_minor": 5
}
